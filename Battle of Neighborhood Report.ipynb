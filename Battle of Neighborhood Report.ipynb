{
 "cells": [
  {
   "cell_type": "markdown",
   "metadata": {},
   "source": [
    "# The Battle of Neighborhood Report"
   ]
  },
  {
   "cell_type": "markdown",
   "metadata": {},
   "source": [
    "### Introduction and Business problem:¶\n",
    "### Problem bacground:\n",
    "The City of New York, is the most populous city in the United States. It is diverse and is the financial capital of USA. It is multicultural. It provides lot of business oppourtunities and business friendly environment. It has attracted many different players into the market. It is a global hub of business and commerce. The city is a major center for banking and finance, retailing, world trade, transportation, tourism and many more.\n",
    "\n",
    "So, the market is highly competitive. As it is highly developed city so cost of doing business is also one of the highest. So before starting of a new business needs to be analysed carefully.\n",
    "\n",
    "### Problem Description:\n",
    "A restaurant is a business which prepares and serves food and drink to customers in return for money, either paid before the meal, after the meal, or with an open account. The City of New York is famous for its excellent cuisine. It's food culture includes an array of international cuisines influenced by the city's immigrant history.\n",
    "\n",
    "Some of famous foods of New York is - bagels, cheesecake, hot dogs, knishes, and delicatessens New York-style pizza and Italian cuisine pastrami and corned beef trattorias, diners, and coffeehouses are ubiquitous throughout the city falafel and kebabs examples of modern New York street food\n",
    "\n",
    "So it is evident that to survive in such competitive market it is very important to startegically plan. Various factors need to be studied inorder to decide on the Location such as\n",
    "\n",
    "New York Population New York City Demographics Are there any Farmers Markets, Wholesale markets etc nearby so that the ingredients can be purchased fresh to maintain quality and cost Are there any venues like Gyms, Entertainmnet zones, Parks etc nearby where floating population is high etc Who are the competitors in that location? Cuisine served / Menu of the competitors Segmentation of the Borough Untapped markets Saturated markets etc The list can go on...\n",
    "\n",
    "First move is very important, thereby choice of location is very important.\n",
    "\n",
    "### Target Audience:\n",
    "To recommend the correct location to open a resturent ABC company hire me. The objective is to find and recommend which neighborhood of New York city is suitable to open the resturant.\n",
    "\n",
    "### Success Criteria:\n",
    "The success criteria of the project will be measured by the good recommendation of neighborhood of New yor city to open the Resturant\n",
    "\n"
   ]
  },
  {
   "cell_type": "markdown",
   "metadata": {},
   "source": [
    "## Data¶\n",
    "In this section I am going to discuss about the data we are going to use. For this project I am going to analyse the New York city.\n",
    "\n",
    "### Data 1 :\n",
    "Neighborhood has a total of 5 boroughs and 306 neighborhoods. In order to segement the neighborhoods and explore them, we will essentially need a dataset that contains the 5 boroughs and the neighborhoods that exist in each borough as well as the the latitude and logitude coordinates of each neighborhood.\n",
    "\n",
    "This dataset exists for free on the web. Link to the dataset is : https://geo.nyu.edu/catalog/nyu_2451_34572\n",
    "\n",
    "### Data 2 :\n",
    "Second data which will be used is the DOHMH Farmers Markets and Food Boxes dataset. In this we will be using the data of Farmers Markets.\n",
    "\n",
    "https://data.cityofnewyork.us/dataset/DOHMH-Farmers-Markets-and-Food-Boxes/8vwk-6iz2\n",
    "\n",
    "### Data 3 :\n",
    "For the below analysis we will get data from wikipedia as given below :\n",
    "\n",
    "New York Population\n",
    "New City Demographics\n",
    "cuisine of New York City\n",
    "https://en.wikipedia.org/wiki/New_York_City\n",
    "\n",
    "https://en.wikipedia.org/wiki/Economy_of_New_York_City\n",
    "\n",
    "https://en.wikipedia.org/wiki/Portal:New_York_City\n",
    "\n",
    "https://en.wikipedia.org/wiki/Cuisine_of_New_York_City\n",
    "\n",
    "https://en.wikipedia.org/wiki/List_of_Michelin_starred_restaurants_in_New_York_City\n",
    "\n"
   ]
  },
  {
   "cell_type": "markdown",
   "metadata": {},
   "source": [
    "## Discussion\n",
    "The place of the resturant is choosed in such a location where pOPULtion is very high amoung the New York city. So here the the risk of loss is very low.\n"
   ]
  },
  {
   "cell_type": "markdown",
   "metadata": {},
   "source": [
    "## Conclusion\n",
    "The whole project and the result of predicting is based on the limited data. if the data are correct enough then the prediction would be right. It all depends on the data. If good amount of data is available there then only it come up with a better result."
   ]
  },
  {
   "cell_type": "code",
   "execution_count": null,
   "metadata": {},
   "outputs": [],
   "source": []
  }
 ],
 "metadata": {
  "kernelspec": {
   "display_name": "Python 3",
   "language": "python",
   "name": "python3"
  },
  "language_info": {
   "codemirror_mode": {
    "name": "ipython",
    "version": 3
   },
   "file_extension": ".py",
   "mimetype": "text/x-python",
   "name": "python",
   "nbconvert_exporter": "python",
   "pygments_lexer": "ipython3",
   "version": "3.8.3"
  }
 },
 "nbformat": 4,
 "nbformat_minor": 4
}
