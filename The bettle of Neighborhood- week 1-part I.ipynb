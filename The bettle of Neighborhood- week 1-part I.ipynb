{
 "cells": [
  {
   "cell_type": "markdown",
   "metadata": {
    "collapsed": true
   },
   "source": [
    "#  The Bettle of Neighborhood - week 1"
   ]
  },
  {
   "cell_type": "markdown",
   "metadata": {},
   "source": [
    "## Introduction and Business problem:"
   ]
  },
  {
   "cell_type": "markdown",
   "metadata": {},
   "source": [
    "## Problem bacground:"
   ]
  },
  {
   "cell_type": "markdown",
   "metadata": {},
   "source": [
    "The City of New York, is the most populous city in the United States. It is diverse and is the financial capital of USA. It is multicultural. It provides lot of business oppourtunities and business friendly environment. It has attracted many different players into the market. It is a global hub of business and commerce. The city is a major center for banking and finance, retailing, world trade, transportation, tourism and many more.\n",
    "\n",
    "So, the market is highly competitive. As it is highly developed city so cost of doing business is also one of the highest. So before starting of a new business needs to be analysed carefully. \n",
    "\n"
   ]
  },
  {
   "cell_type": "markdown",
   "metadata": {},
   "source": [
    "## Problem Description:"
   ]
  },
  {
   "cell_type": "markdown",
   "metadata": {},
   "source": [
    "A restaurant is a business which prepares and serves food and drink to customers in return for money, either paid before the meal, after the meal, or with an open account. The City of New York is famous for its excellent cuisine. It's food culture includes an array of international cuisines influenced by the city's immigrant history.\n",
    "\n",
    "Some of famous foods of New York is -\n",
    "bagels, cheesecake, hot dogs, knishes, and delicatessens\n",
    "New York-style pizza and Italian cuisine\n",
    "pastrami and corned beef\n",
    "trattorias, diners, and coffeehouses are ubiquitous throughout the city\n",
    "falafel and kebabs examples of modern New York street food\n",
    "\n",
    "\n",
    "\n",
    "\n",
    "\n",
    "\n",
    "\n",
    "\n",
    "So it is evident that to survive in such competitive market it is very important to startegically plan. Various factors need to be studied inorder to decide on the Location such as \n",
    "\n",
    "New York Population\n",
    "New York City Demographics\n",
    "Are there any Farmers Markets, Wholesale markets etc nearby so that the ingredients can be purchased fresh to maintain quality and cost\n",
    "Are there any venues like Gyms, Entertainmnet zones, Parks etc nearby where floating population is high etc\n",
    "Who are the competitors in that location?\n",
    "Cuisine served / Menu of the competitors\n",
    "Segmentation of the Borough\n",
    "Untapped markets\n",
    "Saturated markets etc\n",
    "The list can go on...\n",
    "\n",
    "\n",
    "\n",
    "\n",
    "First move is very important, thereby choice of location is very important.\n",
    "\n"
   ]
  },
  {
   "cell_type": "markdown",
   "metadata": {},
   "source": [
    "## Target Audience:"
   ]
  },
  {
   "cell_type": "markdown",
   "metadata": {},
   "source": [
    "To recommend the correct location \n",
    "to open a resturent ABC company hire me. The objective is to find and recommend which neighborhood of New York city is suitable to open the resturant."
   ]
  },
  {
   "cell_type": "markdown",
   "metadata": {},
   "source": [
    "## Success Criteria:"
   ]
  },
  {
   "cell_type": "markdown",
   "metadata": {},
   "source": [
    " The success criteria of the project will be measured by the good recommendation of neighborhood of New yor city to open the Resturant"
   ]
  },
  {
   "cell_type": "code",
   "execution_count": null,
   "metadata": {},
   "outputs": [],
   "source": []
  }
 ],
 "metadata": {
  "kernelspec": {
   "display_name": "Python 3.6",
   "language": "python",
   "name": "python3"
  },
  "language_info": {
   "codemirror_mode": {
    "name": "ipython",
    "version": 3
   },
   "file_extension": ".py",
   "mimetype": "text/x-python",
   "name": "python",
   "nbconvert_exporter": "python",
   "pygments_lexer": "ipython3",
   "version": "3.6.9"
  }
 },
 "nbformat": 4,
 "nbformat_minor": 1
}
